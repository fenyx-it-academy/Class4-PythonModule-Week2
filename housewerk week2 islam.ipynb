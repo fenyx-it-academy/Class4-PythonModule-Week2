{
 "cells": [
  {
   "cell_type": "markdown",
   "metadata": {},
   "source": [
    "1.Write a programme to generate the lucky numbers from the range(n). These are generated starting with the sequence s=[1,2,...,n]. At the first pass, we remove every second element fromthe sequence, resulting in s2. At the second pass, we remove every third element from the sequence s2, resulting in s3, and we proceed in this way until no elements can be removed. The resulting sequence are the numbers lucky enough to have survived elimination. \n",
    "The following example describes the entire process for n=22:\n",
    "Original sequence: [1, 2, 3, 4, 5, 6, 7, 8, 9, 10, 11, 12, 13, 14, 15, 16, 17, 18, 19, 20, 21, 22]\n",
    "Remove 2nd elements: [1, 3, 5, 7, 9, 11, 13, 15, 17, 19, 21] \n",
    "Remove 3rd elements: [1, 3, 7, 9, 13, 15, 19, 21] \n",
    "Remove 4th elements: [1, 3, 7, 13, 15, 19] \n",
    "Remove 5th elements: [1, 3, 7, 13, 19]\n",
    "We cannot remove every other 6th element as there is no 6th element.\n",
    "Input>>> 22 "
   ]
  },
  {
   "cell_type": "code",
   "execution_count": 1,
   "metadata": {},
   "outputs": [
    {
     "name": "stdout",
     "output_type": "stream",
     "text": [
      "[0, 2, 4, 6, 8, 10, 12, 14, 16, 18, 20, 22, 24, 26, 28, 30]\n",
      "[0, 6, 12, 18, 24, 30]\n",
      "[0, 24]\n",
      "lucky_number is : [0, 24]\n"
     ]
    }
   ],
   "source": [
    "orijnal=[0,1, 2, 3, 4, 5, 6, 7, 8, 9, 10, 11, 12, 13, 14, 15, 16, 17, 18, 19, 20, 21, 22,23,24,25,26,27,28,29,30]\n",
    "second_element=orijnal[:31:2]\n",
    "print(second_element)\n",
    "\n",
    "third_element=second_element[:17:3]\n",
    "print(third_element)\n",
    "\n",
    "fourth_element=third_element[:7:4]\n",
    "print(fourth_element)\n",
    "\n",
    "lucky_number=fourth_element\n",
    "print(\"lucky_number is :\",fourth_element)"
   ]
  },
  {
   "cell_type": "markdown",
   "metadata": {},
   "source": [
    "2.Write a program that takes two inputs; one of them is a list and the other is a number, and returns the list obtained by shifting the elements in the list n places to the right (left) when n is positive (negative). Use wrap-around: if an element is shifted beyond the end of the list, then continue to shift starting at the beginning of the list. \n",
    "\n",
    "Example:\n",
    "Inputs>>> [1, 2, 3, 4, 5], 2\n",
    "Output>>> [4, 5, 1, 2, 3] \n",
    "Inputs>>> [1, 2, 3, 4, 5], -2 \n",
    "Output>>> [3, 4, 5, 1, 2]"
   ]
  },
  {
   "cell_type": "code",
   "execution_count": 1,
   "metadata": {},
   "outputs": [
    {
     "name": "stdout",
     "output_type": "stream",
     "text": [
      "Lutfen kelime girin:adddas\n",
      "Lutfen bir sayi girin:2\n",
      "asaddd\n"
     ]
    }
   ],
   "source": [
    "liste=str(input(\"Lutfen kelime girin:\"))\n",
    "number=int(input(\"Lutfen bir sayi girin:\"))\n",
    "if number>0:\n",
    "    liste=(liste[len(liste)-number:len(liste)]\n",
    "       +liste[0:len(liste)-number])\n",
    "#print(liste)\n",
    "elif number<0:\n",
    "     liste=(liste[len(liste)+number:len(liste)]\n",
    "       +liste[0:len(liste)+number])\n",
    "else:\n",
    "     print(\"yanlis giris yaptiniz,tekrar giriniz..\")\n",
    "print(liste)        "
   ]
  },
  {
   "cell_type": "markdown",
   "metadata": {},
   "source": [
    "3.Write a code snippet that inputs a sentence from the user, then uses a dictionary to summarize the number of occurrences of each letter. Ignore case, ignore blanks and assume the user doesnot enter any punctuation. Display a two-column table of the letters and their counts with the letters in sorted order. \n",
    "\n",
    "Example:\n",
    "Input >>> \"This is a sample text with several words This is more sample text with some differentwords\" \n",
    "Output >>> [('a', 4), ('d', 3), ('e', 10), ('f', 2), ('h', 4), ('i', 7), ('l', 3), ('m 4), ('n', 1), ('o', 4), ('p', 2), ('r', 5), ('s', 10), ('t', 9), ('v', 1), ('w', 4), ('x', 2)]"
   ]
  },
  {
   "cell_type": "code",
   "execution_count": 19,
   "metadata": {},
   "outputs": [
    {
     "name": "stdout",
     "output_type": "stream",
     "text": [
      "Lutfen bir cumle girin.aasd fdgghjhj\n",
      "a:2\n",
      "s:1\n",
      "d:2\n",
      " :1\n",
      "f:1\n",
      "g:2\n",
      "h:2\n",
      "j:2\n"
     ]
    }
   ],
   "source": [
    "cumle=str(input(\"Lutfen bir cumle girin.\"))\n",
    "\n",
    "cumle=cumle.lower()\n",
    "x=[]\n",
    "for i in cumle:\n",
    "    if not(i in x) and i!=\"\": \n",
    "        x.append(i)\n",
    "#print(c)\n",
    "x2=[]\n",
    "for i in x:\n",
    "    s=0\n",
    "    for j in cumle:\n",
    "        if i==j :\n",
    "            s+=1\n",
    "    x2.append(s)\n",
    "\n",
    "for i in range(len(x)):\n",
    "                  \n",
    " print(\"{}:{}\".format(x[i],x2[i])) "
   ]
  },
  {
   "cell_type": "markdown",
   "metadata": {},
   "source": [
    "4.Write a program that takes in two words as input and returns a list containing three elements, in the following order: \n",
    "Shared letters between two words.\n",
    "Letters unique to word 1.\n",
    "Letters unique to word 2. \n",
    "Each element of the output should have unique letters, and should be alphabetically sorted. Useset operations. The strings will always be in lowercase and will not contain any punctuation. \n",
    "\n",
    "Example:\n",
    "Input1>>> \"sharp\" \n",
    "Input2>>> \"soap\" \n",
    "Output>>> ['aps', 'hr', 'o']"
   ]
  },
  {
   "cell_type": "code",
   "execution_count": 36,
   "metadata": {},
   "outputs": [
    {
     "name": "stdout",
     "output_type": "stream",
     "text": [
      "bir kelime girin:selam\n",
      "ikinci kelimeyi girin:millet\n",
      "(['e', 'l', 'm'], ['a', 's'], ['i', 't'])\n"
     ]
    }
   ],
   "source": [
    "word=set(input(\"bir kelime girin:\"))\n",
    "kelim=set(input(\"ikinci kelimeyi girin:\"))\n",
    "ayni=sorted(word&kelim)\n",
    "fark_word=sorted(word-kelim)\n",
    "fark_kelim=sorted(kelim-word)\n",
    "genel=ayni,fark_word,fark_kelim\n",
    "print(genel)"
   ]
  },
  {
   "cell_type": "code",
   "execution_count": null,
   "metadata": {},
   "outputs": [],
   "source": []
  }
 ],
 "metadata": {
  "kernelspec": {
   "display_name": "Python 3",
   "language": "python",
   "name": "python3"
  },
  "language_info": {
   "codemirror_mode": {
    "name": "ipython",
    "version": 3
   },
   "file_extension": ".py",
   "mimetype": "text/x-python",
   "name": "python",
   "nbconvert_exporter": "python",
   "pygments_lexer": "ipython3",
   "version": "3.8.5"
  }
 },
 "nbformat": 4,
 "nbformat_minor": 4
}
